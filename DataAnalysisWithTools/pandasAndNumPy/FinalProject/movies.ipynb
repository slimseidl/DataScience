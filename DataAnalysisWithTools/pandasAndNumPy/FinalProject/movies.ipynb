{
 "cells": [
  {
   "cell_type": "markdown",
   "id": "11a18d59",
   "metadata": {},
   "source": [
    "# Movie Dataset"
   ]
  },
  {
   "cell_type": "markdown",
   "id": "607e4531",
   "metadata": {},
   "source": [
    "### List of Columns and Desc\n",
    "\n",
    "- id: A unique ID number of the row. Int64\n",
    "- imdb_id: An imdb unique ID number. String/Object\n",
    "- popularity: The movie's popularity rating. Float64\n",
    "- budget: The movie's budget. Int64\n",
    "- revenue: The movie's revenue. Int64\n",
    "- original_title: The movie's title. String/Object\n",
    "- cast: A list of cast members. String/Object\n",
    "- homepage: The movie's website. String/Object\n",
    "- director: The movie's director. String/Object\n",
    "- tagline: The movie's tagline. String/Object\n",
    "- keywords: Keywords for searching. String/Object\n",
    "- overview: A brief synopsis. String/Object\n",
    "- runtime: Movie runtime in minutes. Int64\n",
    "- genres: Primary genres that the movie falls under. String/Object\n",
    "- production_companies: Companies that aided in production. String/Object\n",
    "- release_date: Date the movie was released. String/Object\n",
    "- vote_count: Number of votes. Int64\n",
    "- vote_average: Average of votes. Float64\n",
    "- release_year: Year the movie was released. Int64\n",
    "- budget_adj: Adjusted budget in terms of 2010 dollars. Float64\n",
    "- revenue_adj: Adjusted revenue in terms of 2010 dollars. Float64"
   ]
  },
  {
   "cell_type": "markdown",
   "id": "0870ffdb",
   "metadata": {},
   "source": [
    "### Questions for Analysis:\n",
    "\n",
    "- What genres profit the most on average?\n",
    "- Does a higher budget lead to higher revenue?\n",
    "- How has genre popularity changed over time?\n",
    "- Which key words are most associated with top grossing films?\n",
    "-"
   ]
  },
  {
   "cell_type": "code",
   "execution_count": null,
   "id": "4e43eaf1",
   "metadata": {},
   "outputs": [],
   "source": []
  }
 ],
 "metadata": {
  "kernelspec": {
   "display_name": "data",
   "language": "python",
   "name": "python3"
  },
  "language_info": {
   "name": "python",
   "version": "3.11.5"
  }
 },
 "nbformat": 4,
 "nbformat_minor": 5
}
