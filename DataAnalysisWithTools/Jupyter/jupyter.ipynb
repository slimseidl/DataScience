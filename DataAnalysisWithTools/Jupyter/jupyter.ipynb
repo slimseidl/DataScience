{
 "cells": [
  {
   "cell_type": "code",
   "execution_count": 1,
   "id": "31759617",
   "metadata": {},
   "outputs": [
    {
     "name": "stdout",
     "output_type": "stream",
     "text": [
      "HelloWorld\n"
     ]
    }
   ],
   "source": [
    "print(f'HelloWorld')"
   ]
  },
  {
   "cell_type": "code",
   "execution_count": null,
   "id": "131178c4",
   "metadata": {},
   "outputs": [],
   "source": []
  },
  {
   "cell_type": "markdown",
   "id": "5bc410a9",
   "metadata": {},
   "source": [
    "## Header"
   ]
  },
  {
   "cell_type": "code",
   "execution_count": 2,
   "id": "6575b396",
   "metadata": {},
   "outputs": [
    {
     "data": {
      "text/plain": [
       "256"
      ]
     },
     "execution_count": 2,
     "metadata": {},
     "output_type": "execute_result"
    }
   ],
   "source": [
    "4**4"
   ]
  },
  {
   "cell_type": "code",
   "execution_count": 3,
   "id": "767a93c1",
   "metadata": {},
   "outputs": [
    {
     "data": {
      "text/plain": [
       "16"
      ]
     },
     "execution_count": 3,
     "metadata": {},
     "output_type": "execute_result"
    }
   ],
   "source": [
    "4*4"
   ]
  },
  {
   "cell_type": "code",
   "execution_count": 4,
   "id": "59f16c31",
   "metadata": {},
   "outputs": [
    {
     "data": {
      "text/plain": [
       "18446744073709551616"
      ]
     },
     "execution_count": 4,
     "metadata": {},
     "output_type": "execute_result"
    }
   ],
   "source": [
    "16**16"
   ]
  },
  {
   "cell_type": "code",
   "execution_count": 5,
   "id": "d7684da9",
   "metadata": {},
   "outputs": [
    {
     "data": {
      "text/plain": [
       "256"
      ]
     },
     "execution_count": 5,
     "metadata": {},
     "output_type": "execute_result"
    }
   ],
   "source": [
    "16*16"
   ]
  },
  {
   "cell_type": "code",
   "execution_count": 11,
   "id": "036724ba",
   "metadata": {},
   "outputs": [
    {
     "data": {
      "text/plain": [
       "'grow'"
      ]
     },
     "execution_count": 11,
     "metadata": {},
     "output_type": "execute_result"
    }
   ],
   "source": [
    "mindset = \"growth\"\n",
    "mindset[:4]"
   ]
  },
  {
   "cell_type": "code",
   "execution_count": null,
   "id": "1805378d",
   "metadata": {},
   "outputs": [
    {
     "data": {
      "text/plain": [
       "<bound method Random.randint of <random.Random object at 0x000002246804F380>>"
      ]
     },
     "execution_count": 8,
     "metadata": {},
     "output_type": "execute_result"
    }
   ],
   "source": [
    "import random\n",
    "random.randint"
   ]
  },
  {
   "cell_type": "code",
   "execution_count": 10,
   "id": "216af3ab",
   "metadata": {},
   "outputs": [
    {
     "data": {
      "text/plain": [
       "0.5391129986973799"
      ]
     },
     "execution_count": 10,
     "metadata": {},
     "output_type": "execute_result"
    }
   ],
   "source": [
    "random.gauss()"
   ]
  },
  {
   "cell_type": "markdown",
   "id": "94a15d22",
   "metadata": {},
   "source": [
    "# H1\n",
    "## H2\n",
    "### H3\n",
    "#### H4"
   ]
  },
  {
   "cell_type": "markdown",
   "id": "c685be70",
   "metadata": {},
   "source": [
    "This is a link:\n",
    "\n",
    "[Puck](www.puck.com)\\n\n",
    "Puck in [] brackets, url in parentheses\n",
    "\n"
   ]
  },
  {
   "cell_type": "markdown",
   "id": "74ffa233",
   "metadata": {},
   "source": [
    "This is emphasis\n",
    "Underscore or asterisk wrapped\n",
    "\n",
    "*cool*"
   ]
  },
  {
   "cell_type": "markdown",
   "id": "6ac68148",
   "metadata": {},
   "source": [
    "Bold uses two underscores or asterisks\n",
    "\n",
    "**Bold**"
   ]
  },
  {
   "cell_type": "markdown",
   "id": "4d817483",
   "metadata": {},
   "source": [
    "To show code as markdown, wrap in single backticks for inline or triple backticks for code block\n",
    "\n",
    "inline - `random.randint()`\n",
    "\n",
    "Block\n",
    "\n",
    "```\n",
    "import random\n",
    "random.randint()\n",
    "```"
   ]
  },
  {
   "cell_type": "markdown",
   "id": "4dbc8bec",
   "metadata": {},
   "source": [
    "For inline math markdown, wrap in double $$ \n",
    "\n",
    "$$\n",
    "y = 5/4\n",
    "$$"
   ]
  },
  {
   "cell_type": "markdown",
   "id": "fa960634",
   "metadata": {},
   "source": [
    "Images are similar to links, but with a ! before the square brackets\n",
    "sqbracket \"text\" sqbracket (linktoimage)"
   ]
  },
  {
   "cell_type": "code",
   "execution_count": 3,
   "id": "4c7bcb0c",
   "metadata": {},
   "outputs": [
    {
     "name": "stdout",
     "output_type": "stream",
     "text": [
      "82 ns ± 29.4 ns per loop (mean ± std. dev. of 7 runs, 10,000,000 loops each)\n"
     ]
    }
   ],
   "source": [
    "# Magic Functions like %timeit\n",
    "# Tells you how long it takes for a function to run or line to run\n",
    "# goes inline at start of single line of code\n",
    "\n",
    "def square(a):\n",
    "    return a*a\n",
    "\n",
    "%timeit square(2)"
   ]
  },
  {
   "cell_type": "code",
   "execution_count": 1,
   "id": "8d8d49f0",
   "metadata": {},
   "outputs": [],
   "source": [
    "import random "
   ]
  },
  {
   "cell_type": "code",
   "execution_count": null,
   "id": "cbcc9005",
   "metadata": {},
   "outputs": [
    {
     "name": "stdout",
     "output_type": "stream",
     "text": [
      "57.9 μs ± 12.7 μs per loop (mean ± std. dev. of 7 runs, 10,000 loops each)\n"
     ]
    }
   ],
   "source": [
    "%%timeit\n",
    "# Magic Function %%timeit for whole cell \n",
    "# goes at top of cell to time execution of whole cell\n",
    "# time it must go before even the comments\n",
    "import random \n",
    "prize = 0\n",
    "for i in range(100):\n",
    "    roll = random.randint(1,6)\n",
    "    if roll %2 == 0:\n",
    "        prize += roll \n",
    "    else:\n",
    "        prize -= 1\n"
   ]
  },
  {
   "cell_type": "code",
   "execution_count": 4,
   "id": "cb594e62",
   "metadata": {},
   "outputs": [
    {
     "name": "stdout",
     "output_type": "stream",
     "text": [
      "59.6 μs ± 27.2 μs per loop (mean ± std. dev. of 7 runs, 10,000 loops each)\n"
     ]
    }
   ],
   "source": [
    "%%timeit\n",
    "x = [i*i for i in range(1000)]"
   ]
  },
  {
   "cell_type": "code",
   "execution_count": null,
   "id": "d9b30433",
   "metadata": {},
   "outputs": [],
   "source": []
  }
 ],
 "metadata": {
  "kernelspec": {
   "display_name": "data",
   "language": "python",
   "name": "python3"
  },
  "language_info": {
   "codemirror_mode": {
    "name": "ipython",
    "version": 3
   },
   "file_extension": ".py",
   "mimetype": "text/x-python",
   "name": "python",
   "nbconvert_exporter": "python",
   "pygments_lexer": "ipython3",
   "version": "3.11.5"
  }
 },
 "nbformat": 4,
 "nbformat_minor": 5
}
